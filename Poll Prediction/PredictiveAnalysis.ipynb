{
 "cells": [
  {
   "cell_type": "code",
   "execution_count": 392,
   "id": "538a3830",
   "metadata": {},
   "outputs": [],
   "source": [
    "#Importing necessary packages\n",
    "import math \n",
    "import io\n",
    "import numpy as np\n",
    "import pandas as pd\n",
    "from matplotlib import pyplot\n",
    "from matplotlib.pyplot import figure\n",
    "\n",
    "import matplotlib.pyplot as plt\n",
    "%matplotlib inline\n",
    "import scipy.stats\n",
    "import scipy.optimize\n",
    "import scipy.spatial\n",
    "from scipy.stats import norm\n",
    "from matplotlib import rcParams"
   ]
  },
  {
   "cell_type": "code",
   "execution_count": 393,
   "id": "4ccb6409",
   "metadata": {
    "scrolled": false
   },
   "outputs": [],
   "source": [
    "#Read data frame\n",
    "df = pd.read_csv(r'poll.csv')"
   ]
  },
  {
   "cell_type": "code",
   "execution_count": 394,
   "id": "7ebee8cd",
   "metadata": {},
   "outputs": [
    {
     "name": "stdout",
     "output_type": "stream",
     "text": [
      "<class 'pandas.core.frame.DataFrame'>\n",
      "RangeIndex: 1000 entries, 0 to 999\n",
      "Data columns (total 1 columns):\n",
      " #   Column  Non-Null Count  Dtype \n",
      "---  ------  --------------  ----- \n",
      " 0   vote    1000 non-null   object\n",
      "dtypes: object(1)\n",
      "memory usage: 7.9+ KB\n"
     ]
    }
   ],
   "source": [
    "#Collect important information\n",
    "df.info()"
   ]
  },
  {
   "cell_type": "code",
   "execution_count": 395,
   "id": "88b2de9c",
   "metadata": {},
   "outputs": [
    {
     "data": {
      "text/html": [
       "<div>\n",
       "<style scoped>\n",
       "    .dataframe tbody tr th:only-of-type {\n",
       "        vertical-align: middle;\n",
       "    }\n",
       "\n",
       "    .dataframe tbody tr th {\n",
       "        vertical-align: top;\n",
       "    }\n",
       "\n",
       "    .dataframe thead th {\n",
       "        text-align: right;\n",
       "    }\n",
       "</style>\n",
       "<table border=\"1\" class=\"dataframe\">\n",
       "  <thead>\n",
       "    <tr style=\"text-align: right;\">\n",
       "      <th></th>\n",
       "      <th>vote</th>\n",
       "    </tr>\n",
       "  </thead>\n",
       "  <tbody>\n",
       "    <tr>\n",
       "      <th>0</th>\n",
       "      <td>BJP</td>\n",
       "    </tr>\n",
       "    <tr>\n",
       "      <th>1</th>\n",
       "      <td>INC</td>\n",
       "    </tr>\n",
       "    <tr>\n",
       "      <th>2</th>\n",
       "      <td>BJP</td>\n",
       "    </tr>\n",
       "    <tr>\n",
       "      <th>3</th>\n",
       "      <td>BJP</td>\n",
       "    </tr>\n",
       "    <tr>\n",
       "      <th>4</th>\n",
       "      <td>BJP</td>\n",
       "    </tr>\n",
       "  </tbody>\n",
       "</table>\n",
       "</div>"
      ],
      "text/plain": [
       "  vote\n",
       "0  BJP\n",
       "1  INC\n",
       "2  BJP\n",
       "3  BJP\n",
       "4  BJP"
      ]
     },
     "execution_count": 395,
     "metadata": {},
     "output_type": "execute_result"
    }
   ],
   "source": [
    "#Show first 5 rows\n",
    "df.head()"
   ]
  },
  {
   "cell_type": "code",
   "execution_count": 396,
   "id": "e202b253",
   "metadata": {},
   "outputs": [
    {
     "data": {
      "text/plain": [
       "BJP    511\n",
       "INC    489\n",
       "Name: vote, dtype: int64"
      ]
     },
     "execution_count": 396,
     "metadata": {},
     "output_type": "execute_result"
    }
   ],
   "source": [
    "#Count values\n",
    "df.vote.value_counts()"
   ]
  },
  {
   "cell_type": "code",
   "execution_count": 397,
   "id": "0afe7dba",
   "metadata": {},
   "outputs": [
    {
     "data": {
      "text/plain": [
       "BJP    0.511\n",
       "INC    0.489\n",
       "Name: vote, dtype: float64"
      ]
     },
     "execution_count": 397,
     "metadata": {},
     "output_type": "execute_result"
    }
   ],
   "source": [
    "#Normalise counted values\n",
    "df.vote.value_counts(normalize = True)\n"
   ]
  },
  {
   "cell_type": "code",
   "execution_count": 398,
   "id": "95e29873",
   "metadata": {},
   "outputs": [],
   "source": [
    "#Define a function to simulate another sample with similar distribution\n",
    "def sample (bjp_cut, n):\n",
    "    return pd.DataFrame({'vote':np.where(np.random.rand(n) < bjp_cut, 'BJP', 'INC')}) "
   ]
  },
  {
   "cell_type": "code",
   "execution_count": 399,
   "id": "215895b0",
   "metadata": {},
   "outputs": [],
   "source": [
    "#let 's' be the sample function with  selected values\n",
    "s = sample(0.51, 1000)"
   ]
  },
  {
   "cell_type": "code",
   "execution_count": 400,
   "id": "734b4a69",
   "metadata": {},
   "outputs": [
    {
     "name": "stdout",
     "output_type": "stream",
     "text": [
      "<class 'pandas.core.frame.DataFrame'>\n",
      "RangeIndex: 1000 entries, 0 to 999\n",
      "Data columns (total 1 columns):\n",
      " #   Column  Non-Null Count  Dtype \n",
      "---  ------  --------------  ----- \n",
      " 0   vote    1000 non-null   object\n",
      "dtypes: object(1)\n",
      "memory usage: 7.9+ KB\n"
     ]
    }
   ],
   "source": [
    "#summarize dataframe returned by s \n",
    "s.info()"
   ]
  },
  {
   "cell_type": "code",
   "execution_count": 401,
   "id": "3d9de26f",
   "metadata": {},
   "outputs": [
    {
     "data": {
      "text/html": [
       "<div>\n",
       "<style scoped>\n",
       "    .dataframe tbody tr th:only-of-type {\n",
       "        vertical-align: middle;\n",
       "    }\n",
       "\n",
       "    .dataframe tbody tr th {\n",
       "        vertical-align: top;\n",
       "    }\n",
       "\n",
       "    .dataframe thead th {\n",
       "        text-align: right;\n",
       "    }\n",
       "</style>\n",
       "<table border=\"1\" class=\"dataframe\">\n",
       "  <thead>\n",
       "    <tr style=\"text-align: right;\">\n",
       "      <th></th>\n",
       "      <th>vote</th>\n",
       "    </tr>\n",
       "  </thead>\n",
       "  <tbody>\n",
       "    <tr>\n",
       "      <th>0</th>\n",
       "      <td>BJP</td>\n",
       "    </tr>\n",
       "    <tr>\n",
       "      <th>1</th>\n",
       "      <td>INC</td>\n",
       "    </tr>\n",
       "    <tr>\n",
       "      <th>2</th>\n",
       "      <td>BJP</td>\n",
       "    </tr>\n",
       "    <tr>\n",
       "      <th>3</th>\n",
       "      <td>BJP</td>\n",
       "    </tr>\n",
       "    <tr>\n",
       "      <th>4</th>\n",
       "      <td>INC</td>\n",
       "    </tr>\n",
       "    <tr>\n",
       "      <th>...</th>\n",
       "      <td>...</td>\n",
       "    </tr>\n",
       "    <tr>\n",
       "      <th>995</th>\n",
       "      <td>INC</td>\n",
       "    </tr>\n",
       "    <tr>\n",
       "      <th>996</th>\n",
       "      <td>BJP</td>\n",
       "    </tr>\n",
       "    <tr>\n",
       "      <th>997</th>\n",
       "      <td>INC</td>\n",
       "    </tr>\n",
       "    <tr>\n",
       "      <th>998</th>\n",
       "      <td>BJP</td>\n",
       "    </tr>\n",
       "    <tr>\n",
       "      <th>999</th>\n",
       "      <td>BJP</td>\n",
       "    </tr>\n",
       "  </tbody>\n",
       "</table>\n",
       "<p>1000 rows × 1 columns</p>\n",
       "</div>"
      ],
      "text/plain": [
       "    vote\n",
       "0    BJP\n",
       "1    INC\n",
       "2    BJP\n",
       "3    BJP\n",
       "4    INC\n",
       "..   ...\n",
       "995  INC\n",
       "996  BJP\n",
       "997  INC\n",
       "998  BJP\n",
       "999  BJP\n",
       "\n",
       "[1000 rows x 1 columns]"
      ]
     },
     "execution_count": 401,
     "metadata": {},
     "output_type": "execute_result"
    }
   ],
   "source": [
    "#Show data frame created by s function\n",
    "s"
   ]
  },
  {
   "cell_type": "code",
   "execution_count": 402,
   "id": "ae2caa81",
   "metadata": {},
   "outputs": [
    {
     "data": {
      "text/html": [
       "<div>\n",
       "<style scoped>\n",
       "    .dataframe tbody tr th:only-of-type {\n",
       "        vertical-align: middle;\n",
       "    }\n",
       "\n",
       "    .dataframe tbody tr th {\n",
       "        vertical-align: top;\n",
       "    }\n",
       "\n",
       "    .dataframe thead th {\n",
       "        text-align: right;\n",
       "    }\n",
       "</style>\n",
       "<table border=\"1\" class=\"dataframe\">\n",
       "  <thead>\n",
       "    <tr style=\"text-align: right;\">\n",
       "      <th></th>\n",
       "      <th>vote</th>\n",
       "    </tr>\n",
       "  </thead>\n",
       "  <tbody>\n",
       "    <tr>\n",
       "      <th>0</th>\n",
       "      <td>BJP</td>\n",
       "    </tr>\n",
       "    <tr>\n",
       "      <th>1</th>\n",
       "      <td>INC</td>\n",
       "    </tr>\n",
       "    <tr>\n",
       "      <th>2</th>\n",
       "      <td>BJP</td>\n",
       "    </tr>\n",
       "    <tr>\n",
       "      <th>3</th>\n",
       "      <td>BJP</td>\n",
       "    </tr>\n",
       "    <tr>\n",
       "      <th>4</th>\n",
       "      <td>INC</td>\n",
       "    </tr>\n",
       "  </tbody>\n",
       "</table>\n",
       "</div>"
      ],
      "text/plain": [
       "  vote\n",
       "0  BJP\n",
       "1  INC\n",
       "2  BJP\n",
       "3  BJP\n",
       "4  INC"
      ]
     },
     "execution_count": 402,
     "metadata": {},
     "output_type": "execute_result"
    }
   ],
   "source": [
    "#Show first five rows of s \n",
    "s.head()"
   ]
  },
  {
   "cell_type": "code",
   "execution_count": 403,
   "id": "484d0de2",
   "metadata": {},
   "outputs": [
    {
     "data": {
      "text/plain": [
       "BJP    0.507\n",
       "INC    0.493\n",
       "Name: vote, dtype: float64"
      ]
     },
     "execution_count": 403,
     "metadata": {},
     "output_type": "execute_result"
    }
   ],
   "source": [
    "#Count the simulated vote distribution for each party \n",
    "s.vote.value_counts(normalize=True)"
   ]
  },
  {
   "cell_type": "code",
   "execution_count": 404,
   "id": "c4b4396c",
   "metadata": {},
   "outputs": [],
   "source": [
    "#Create a distribution dataframe for 1000 such simulations\n",
    "dist = pd.DataFrame([sample(0.51, 1000).vote.value_counts(normalize=True) for i in range(1000)])"
   ]
  },
  {
   "cell_type": "code",
   "execution_count": 405,
   "id": "a1d799a2",
   "metadata": {},
   "outputs": [
    {
     "data": {
      "text/html": [
       "<div>\n",
       "<style scoped>\n",
       "    .dataframe tbody tr th:only-of-type {\n",
       "        vertical-align: middle;\n",
       "    }\n",
       "\n",
       "    .dataframe tbody tr th {\n",
       "        vertical-align: top;\n",
       "    }\n",
       "\n",
       "    .dataframe thead th {\n",
       "        text-align: right;\n",
       "    }\n",
       "</style>\n",
       "<table border=\"1\" class=\"dataframe\">\n",
       "  <thead>\n",
       "    <tr style=\"text-align: right;\">\n",
       "      <th></th>\n",
       "      <th>INC</th>\n",
       "      <th>BJP</th>\n",
       "    </tr>\n",
       "  </thead>\n",
       "  <tbody>\n",
       "    <tr>\n",
       "      <th>vote</th>\n",
       "      <td>0.516</td>\n",
       "      <td>0.484</td>\n",
       "    </tr>\n",
       "    <tr>\n",
       "      <th>vote</th>\n",
       "      <td>0.508</td>\n",
       "      <td>0.492</td>\n",
       "    </tr>\n",
       "    <tr>\n",
       "      <th>vote</th>\n",
       "      <td>0.502</td>\n",
       "      <td>0.498</td>\n",
       "    </tr>\n",
       "    <tr>\n",
       "      <th>vote</th>\n",
       "      <td>0.489</td>\n",
       "      <td>0.511</td>\n",
       "    </tr>\n",
       "    <tr>\n",
       "      <th>vote</th>\n",
       "      <td>0.485</td>\n",
       "      <td>0.515</td>\n",
       "    </tr>\n",
       "    <tr>\n",
       "      <th>...</th>\n",
       "      <td>...</td>\n",
       "      <td>...</td>\n",
       "    </tr>\n",
       "    <tr>\n",
       "      <th>vote</th>\n",
       "      <td>0.473</td>\n",
       "      <td>0.527</td>\n",
       "    </tr>\n",
       "    <tr>\n",
       "      <th>vote</th>\n",
       "      <td>0.462</td>\n",
       "      <td>0.538</td>\n",
       "    </tr>\n",
       "    <tr>\n",
       "      <th>vote</th>\n",
       "      <td>0.528</td>\n",
       "      <td>0.472</td>\n",
       "    </tr>\n",
       "    <tr>\n",
       "      <th>vote</th>\n",
       "      <td>0.469</td>\n",
       "      <td>0.531</td>\n",
       "    </tr>\n",
       "    <tr>\n",
       "      <th>vote</th>\n",
       "      <td>0.491</td>\n",
       "      <td>0.509</td>\n",
       "    </tr>\n",
       "  </tbody>\n",
       "</table>\n",
       "<p>1000 rows × 2 columns</p>\n",
       "</div>"
      ],
      "text/plain": [
       "        INC    BJP\n",
       "vote  0.516  0.484\n",
       "vote  0.508  0.492\n",
       "vote  0.502  0.498\n",
       "vote  0.489  0.511\n",
       "vote  0.485  0.515\n",
       "...     ...    ...\n",
       "vote  0.473  0.527\n",
       "vote  0.462  0.538\n",
       "vote  0.528  0.472\n",
       "vote  0.469  0.531\n",
       "vote  0.491  0.509\n",
       "\n",
       "[1000 rows x 2 columns]"
      ]
     },
     "execution_count": 405,
     "metadata": {},
     "output_type": "execute_result"
    }
   ],
   "source": [
    "dist"
   ]
  },
  {
   "cell_type": "code",
   "execution_count": 406,
   "id": "036568f7",
   "metadata": {},
   "outputs": [
    {
     "data": {
      "text/html": [
       "<div>\n",
       "<style scoped>\n",
       "    .dataframe tbody tr th:only-of-type {\n",
       "        vertical-align: middle;\n",
       "    }\n",
       "\n",
       "    .dataframe tbody tr th {\n",
       "        vertical-align: top;\n",
       "    }\n",
       "\n",
       "    .dataframe thead th {\n",
       "        text-align: right;\n",
       "    }\n",
       "</style>\n",
       "<table border=\"1\" class=\"dataframe\">\n",
       "  <thead>\n",
       "    <tr style=\"text-align: right;\">\n",
       "      <th></th>\n",
       "      <th>INC</th>\n",
       "      <th>BJP</th>\n",
       "    </tr>\n",
       "  </thead>\n",
       "  <tbody>\n",
       "    <tr>\n",
       "      <th>vote</th>\n",
       "      <td>0.516</td>\n",
       "      <td>0.484</td>\n",
       "    </tr>\n",
       "    <tr>\n",
       "      <th>vote</th>\n",
       "      <td>0.508</td>\n",
       "      <td>0.492</td>\n",
       "    </tr>\n",
       "    <tr>\n",
       "      <th>vote</th>\n",
       "      <td>0.502</td>\n",
       "      <td>0.498</td>\n",
       "    </tr>\n",
       "    <tr>\n",
       "      <th>vote</th>\n",
       "      <td>0.489</td>\n",
       "      <td>0.511</td>\n",
       "    </tr>\n",
       "    <tr>\n",
       "      <th>vote</th>\n",
       "      <td>0.485</td>\n",
       "      <td>0.515</td>\n",
       "    </tr>\n",
       "  </tbody>\n",
       "</table>\n",
       "</div>"
      ],
      "text/plain": [
       "        INC    BJP\n",
       "vote  0.516  0.484\n",
       "vote  0.508  0.492\n",
       "vote  0.502  0.498\n",
       "vote  0.489  0.511\n",
       "vote  0.485  0.515"
      ]
     },
     "execution_count": 406,
     "metadata": {},
     "output_type": "execute_result"
    }
   ],
   "source": [
    "#Show first five rows of such distribution\n",
    "dist.head()"
   ]
  },
  {
   "cell_type": "code",
   "execution_count": 407,
   "id": "b2c06416",
   "metadata": {
    "scrolled": true
   },
   "outputs": [
    {
     "data": {
      "image/png": "[encoded data removed]",
      "text/plain": [
       "<Figure size 432x288 with 1 Axes>"
      ]
     },
     "metadata": {
      "needs_background": "light"
     },
     "output_type": "display_data"
    },
    {
     "data": {
      "text/plain": [
       "<Figure size 720x360 with 0 Axes>"
      ]
     },
     "metadata": {},
     "output_type": "display_data"
    }
   ],
   "source": [
    "#Create histogram showing probability distribution dof BJP vote fraction in 1000 samples datafrmaes\n",
    "dist.BJP.hist(bins=20, density=True, alpha=0.4, color='b')\n",
    "dist.INC.hist(bins=20, density=True, alpha=0.4, color='r')\n",
    "\n",
    "# Add title and axis names\n",
    "plt.title('Probability distribution of BJP and INC vote fraction for 1000 samples')\n",
    "plt.xlabel('Vote fraction')\n",
    "plt.ylabel('Number of samples')\n",
    "\n",
    "# Fit a normal distribution to the data:\n",
    "# mean and standard deviation\n",
    "mu, std = norm.fit(dist.BJP) \n",
    "Mu, Std = norm.fit(dist.INC)  \n",
    "\n",
    "# Plot the PDF.\n",
    "xmin, xmax = plt.xlim()\n",
    "x = np.linspace(xmin, xmax, 100)\n",
    "p = norm.pdf(x, mu, std)\n",
    "P = norm.pdf(x, Mu, Std)  \n",
    "plt.plot(x, p, 'b', linewidth=2)\n",
    "plt.plot(x, P, 'r', linewidth=2)\n",
    "\n",
    "#Set data statistical parameters as text\n",
    "bjp_mean = \"Mean: {:.2f}\".format(mu) \n",
    "bjp_std = \"Std: {:.2f}\".format(std)\n",
    "plt.text(0.54, 25, \"BJP\", c='b')\n",
    "plt.text(0.54, 20, bjp_mean, c='b')\n",
    "plt.text(0.54, 15, bjp_std, c='b')\n",
    "\n",
    "inc_mean = \"Mean: {:.2f}\".format(Mu) \n",
    "inc_std = \"Std: {:.2f}\".format(Std)\n",
    "plt.text(0.44, 25, \"INC\", c='r')\n",
    "plt.text(0.44, 20, inc_mean, c='r')\n",
    "plt.text(0.44, 15, inc_std, c='r')\n",
    "rcParams['figure.figsize'] = (10,5)\n",
    "\n",
    "fig = plt.figure()\n"
   ]
  },
  {
   "cell_type": "code",
   "execution_count": 408,
   "id": "5cffc2ff",
   "metadata": {},
   "outputs": [
    {
     "data": {
      "image/png": "[encoded data removed]",
      "text/plain": [
       "<Figure size 720x360 with 1 Axes>"
      ]
     },
     "metadata": {
      "needs_background": "light"
     },
     "output_type": "display_data"
    }
   ],
   "source": [
    "#Create histogram showing probability distribution of INC vote fraction in 1000 samples datafrmaes\n",
    "dist.INC.hist(bins=20, density=True, alpha=0.4, color='r')\n",
    "# Add title and axis names\n",
    "plt.title('Probability distribution of BJP vote fraction for 1000 samples')\n",
    "plt.xlabel('INC Vote fraction')\n",
    "plt.ylabel('Number of samples')\n",
    "\n",
    "# Fit a normal distribution to\n",
    "# the data:\n",
    "# mean and standard deviation\n",
    "mu, std = norm.fit(dist.INC) \n",
    "  \n",
    "# Plot the PDF.\n",
    "xmin, xmax = plt.xlim()\n",
    "x = np.linspace(xmin, xmax, 100)\n",
    "p = norm.pdf(x, mu, std)\n",
    "  \n",
    "plt.plot(x, p, 'k', linewidth=2)\n",
    "title = \"Fit Values: {:.2f} and {:.2f}\".format(mu, std)\n",
    "plt.title(title)\n",
    "  \n",
    "plt.show()"
   ]
  },
  {
   "cell_type": "code",
   "execution_count": 409,
   "id": "2781a9db",
   "metadata": {},
   "outputs": [],
   "source": [
    "#Creating function of simulating distribution for varying bjp_cut \n",
    "def samplingdist(bjp_cut, n=1000):\n",
    "        return pd.DataFrame(sample(bjp_cut, n).vote.value_counts(normalize=True) for i in range(1000))"
   ]
  },
  {
   "cell_type": "code",
   "execution_count": 410,
   "id": "ae0d7855",
   "metadata": {},
   "outputs": [],
   "source": [
    "#Creating function for showing range of 95 percent confidence\n",
    "def quantiles(bjp_cut, n=1000):\n",
    "    dist = samplingdist(bjp_cut, n)\n",
    "    return dist.BJP.quantile(0.025), dist.BJP.quantile(0.975)"
   ]
  },
  {
   "cell_type": "code",
   "execution_count": 411,
   "id": "4917f762",
   "metadata": {},
   "outputs": [
    {
     "data": {
      "text/plain": [
       "(0.468975, 0.532)"
      ]
     },
     "execution_count": 411,
     "metadata": {},
     "output_type": "execute_result"
    }
   ],
   "source": [
    "#Confidence Range when bjp_cut is set to 0.5\n",
    "quantiles(0.50)"
   ]
  },
  {
   "cell_type": "code",
   "execution_count": 412,
   "id": "071c466d",
   "metadata": {},
   "outputs": [
    {
     "data": {
      "text/plain": [
       "(0.447, 0.511)"
      ]
     },
     "execution_count": 412,
     "metadata": {},
     "output_type": "execute_result"
    }
   ],
   "source": [
    "#Confidence range when bjp_cut is set to 0.48\n",
    "quantiles(0.48)"
   ]
  },
  {
   "cell_type": "code",
   "execution_count": 413,
   "id": "6b95320b",
   "metadata": {},
   "outputs": [
    {
     "data": {
      "text/plain": [
       "(0.509, 0.572)"
      ]
     },
     "execution_count": 413,
     "metadata": {},
     "output_type": "execute_result"
    }
   ],
   "source": [
    "#Confidence range when bjp_cut is set to 0.54\n",
    "quantiles(0.54)"
   ]
  },
  {
   "cell_type": "code",
   "execution_count": 414,
   "id": "b186e1c1",
   "metadata": {},
   "outputs": [],
   "source": [
    "#\n",
    "dist = samplingdist(0.50, 10000)"
   ]
  },
  {
   "cell_type": "code",
   "execution_count": 415,
   "id": "c4bc1b27",
   "metadata": {},
   "outputs": [
    {
     "data": {
      "text/plain": [
       "Text(0, 0.5, 'values')"
      ]
     },
     "execution_count": 415,
     "metadata": {},
     "output_type": "execute_result"
    },
    {
     "data": {
      "image/png": "[encoded data removed]",
      "text/plain": [
       "<Figure size 720x360 with 1 Axes>"
      ]
     },
     "metadata": {
      "needs_background": "light"
     },
     "output_type": "display_data"
    }
   ],
   "source": [
    "dist.BJP.hist(histtype='step')\n",
    "# Add title and axis names\n",
    "plt.title('My title')\n",
    "plt.xlabel('categories')\n",
    "plt.ylabel('values')"
   ]
  },
  {
   "cell_type": "code",
   "execution_count": 416,
   "id": "aceda9ed",
   "metadata": {},
   "outputs": [],
   "source": [
    "largepoll = pd.read_csv('large-poll.csv')"
   ]
  },
  {
   "cell_type": "code",
   "execution_count": 417,
   "id": "b9b2fae0",
   "metadata": {},
   "outputs": [
    {
     "data": {
      "text/plain": [
       "INC    0.5181\n",
       "BJP    0.4819\n",
       "Name: vote, dtype: float64"
      ]
     },
     "execution_count": 417,
     "metadata": {},
     "output_type": "execute_result"
    }
   ],
   "source": [
    "largepoll.vote.value_counts(normalize=True)"
   ]
  },
  {
   "cell_type": "code",
   "execution_count": null,
   "id": "e19d51ba",
   "metadata": {},
   "outputs": [],
   "source": [
    "dist = pd.DataFrame(sample(0.50,10000).vote.value_counts(normalize=True) for i  in range(1000))"
   ]
  },
  {
   "cell_type": "code",
   "execution_count": null,
   "id": "f191e14d",
   "metadata": {},
   "outputs": [],
   "source": [
    "dist.INC.hist(histtype='step',bins=20)\n",
    "# Add title and axis names\n",
    "plt.title('My title')\n",
    "plt.xlabel('categories')\n",
    "plt.ylabel('values')"
   ]
  },
  {
   "cell_type": "code",
   "execution_count": null,
   "id": "040662fc",
   "metadata": {},
   "outputs": [],
   "source": []
  }
 ],
 "metadata": {
  "kernelspec": {
   "display_name": "Python 3 (ipykernel)",
   "language": "python",
   "name": "python3"
  },
  "language_info": {
   "codemirror_mode": {
    "name": "ipython",
    "version": 3
   },
   "file_extension": ".py",
   "mimetype": "text/x-python",
   "name": "python",
   "nbconvert_exporter": "python",
   "pygments_lexer": "ipython3",
   "version": "3.9.12"
  }
 },
 "nbformat": 4,
 "nbformat_minor": 5
}
