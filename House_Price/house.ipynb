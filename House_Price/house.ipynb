{
 "cells": [
  {
   "cell_type": "markdown",
   "metadata": {
    "colab_type": "text",
    "id": "view-in-github"
   },
   "source": [
    "<a href=\"https://colab.research.google.com/github/jrad9921/Data-Analysis/blob/main/house.ipynb\" target=\"_parent\"><img src=\"https://colab.research.google.com/assets/colab-badge.svg\" alt=\"Open In Colab\"/></a>"
   ]
  },
  {
   "cell_type": "markdown",
   "metadata": {
    "id": "b0ZY95jWYe-w"
   },
   "source": [
    "Import Dependencies"
   ]
  },
  {
   "cell_type": "code",
   "execution_count": 3,
   "metadata": {
    "id": "kmqMkRNUYoZz"
   },
   "outputs": [
    {
     "ename": "ModuleNotFoundError",
     "evalue": "No module named 'xgboost'",
     "output_type": "error",
     "traceback": [
      "\u001b[0;31m---------------------------------------------------------------------------\u001b[0m",
      "\u001b[0;31mModuleNotFoundError\u001b[0m                       Traceback (most recent call last)",
      "Input \u001b[0;32mIn [3]\u001b[0m, in \u001b[0;36m<cell line: 7>\u001b[0;34m()\u001b[0m\n\u001b[1;32m      5\u001b[0m \u001b[38;5;28;01mimport\u001b[39;00m \u001b[38;5;21;01msklearn\u001b[39;00m\u001b[38;5;21;01m.\u001b[39;00m\u001b[38;5;21;01mdatasets\u001b[39;00m\n\u001b[1;32m      6\u001b[0m \u001b[38;5;28;01mfrom\u001b[39;00m \u001b[38;5;21;01msklearn\u001b[39;00m\u001b[38;5;21;01m.\u001b[39;00m\u001b[38;5;21;01mmodel_selection\u001b[39;00m \u001b[38;5;28;01mimport\u001b[39;00m train_test_split\n\u001b[0;32m----> 7\u001b[0m \u001b[38;5;28;01mfrom\u001b[39;00m \u001b[38;5;21;01mxgboost\u001b[39;00m \u001b[38;5;28;01mimport\u001b[39;00m XGBRegressor\n\u001b[1;32m      8\u001b[0m \u001b[38;5;28;01mfrom\u001b[39;00m \u001b[38;5;21;01msklearn\u001b[39;00m \u001b[38;5;28;01mimport\u001b[39;00m metrics\n",
      "\u001b[0;31mModuleNotFoundError\u001b[0m: No module named 'xgboost'"
     ]
    }
   ],
   "source": [
    "import numpy as np\n",
    "import pandas as pd\n",
    "import matplotlib.pyplot as plt\n",
    "import seaborn as sns\n",
    "import sklearn.datasets\n",
    "from sklearn.model_selection import train_test_split\n",
    "from xgboost import XGBRegressor\n",
    "from sklearn import metrics"
   ]
  },
  {
   "cell_type": "markdown",
   "metadata": {
    "id": "nXb3xvUpZHMz"
   },
   "source": [
    "Read the data set "
   ]
  },
  {
   "cell_type": "code",
   "execution_count": null,
   "metadata": {
    "colab": {
     "base_uri": "https://localhost:8080/"
    },
    "id": "alLN3OKiZKVa",
    "outputId": "13446476-e3fc-4e0b-e4b2-c71967791209"
   },
   "outputs": [],
   "source": [
    "ds = sklearn.datasets.load_boston()"
   ]
  },
  {
   "cell_type": "code",
   "execution_count": 4,
   "metadata": {
    "colab": {
     "base_uri": "https://localhost:8080/"
    },
    "id": "_IMh2eRkZ1Ud",
    "outputId": "a834a1b2-39ea-4849-e4fa-bb1be7df5bc7"
   },
   "outputs": [
    {
     "ename": "NameError",
     "evalue": "name 'ds' is not defined",
     "output_type": "error",
     "traceback": [
      "\u001b[0;31m---------------------------------------------------------------------------\u001b[0m",
      "\u001b[0;31mNameError\u001b[0m                                 Traceback (most recent call last)",
      "Input \u001b[0;32mIn [4]\u001b[0m, in \u001b[0;36m<cell line: 1>\u001b[0;34m()\u001b[0m\n\u001b[0;32m----> 1\u001b[0m \u001b[43mds\u001b[49m\n",
      "\u001b[0;31mNameError\u001b[0m: name 'ds' is not defined"
     ]
    }
   ],
   "source": [
    "ds"
   ]
  },
  {
   "cell_type": "markdown",
   "metadata": {
    "id": "NNpgnzNQaehC"
   },
   "source": [
    "Loading the dataset to a pandas dataframe"
   ]
  },
  {
   "cell_type": "code",
   "execution_count": null,
   "metadata": {
    "id": "Q__beC9Raf5b"
   },
   "outputs": [],
   "source": [
    "df = pd.DataFrame(ds.data, columns = ds.feature_names)"
   ]
  },
  {
   "cell_type": "code",
   "execution_count": null,
   "metadata": {
    "colab": {
     "base_uri": "https://localhost:8080/",
     "height": 206
    },
    "id": "eR3w0eD0aOP5",
    "outputId": "61d88a1e-e4b0-4873-fce9-bf86cda23ad7"
   },
   "outputs": [],
   "source": [
    "df.head()"
   ]
  },
  {
   "cell_type": "markdown",
   "metadata": {
    "id": "_n0BfVoPbIus"
   },
   "source": [
    "Add the target column to the dataframe"
   ]
  },
  {
   "cell_type": "code",
   "execution_count": null,
   "metadata": {
    "id": "UEFjMvKZbOTE"
   },
   "outputs": [],
   "source": [
    "df['price'] = ds.target  "
   ]
  },
  {
   "cell_type": "code",
   "execution_count": null,
   "metadata": {
    "colab": {
     "base_uri": "https://localhost:8080/",
     "height": 655
    },
    "id": "Qaz9n-sQbeh7",
    "outputId": "67c219b7-12d3-412b-a54d-1edf8b15df17"
   },
   "outputs": [],
   "source": [
    "df"
   ]
  },
  {
   "cell_type": "markdown",
   "metadata": {
    "id": "LjJm3ktsb_TR"
   },
   "source": [
    "Check the shape and basic information of data frame"
   ]
  },
  {
   "cell_type": "code",
   "execution_count": null,
   "metadata": {
    "colab": {
     "base_uri": "https://localhost:8080/"
    },
    "id": "NT8Llv9Tbm5u",
    "outputId": "aad8db7a-4a93-4860-b9d0-3ad96ab8b363"
   },
   "outputs": [],
   "source": [
    "df.shape"
   ]
  },
  {
   "cell_type": "code",
   "execution_count": null,
   "metadata": {
    "colab": {
     "base_uri": "https://localhost:8080/"
    },
    "id": "0YItvMfnbmQh",
    "outputId": "4891b630-2cb3-48c3-e2bc-61abd7e2f008"
   },
   "outputs": [],
   "source": [
    "df.info()"
   ]
  },
  {
   "cell_type": "markdown",
   "metadata": {
    "id": "AOxMPezbcHP4"
   },
   "source": [
    "Check for any null values\n"
   ]
  },
  {
   "cell_type": "code",
   "execution_count": null,
   "metadata": {
    "colab": {
     "base_uri": "https://localhost:8080/"
    },
    "id": "QowNzkU8buCN",
    "outputId": "2dec62ce-9b69-4a06-e4ce-003978ca87b3"
   },
   "outputs": [],
   "source": [
    "df.isnull().sum()"
   ]
  },
  {
   "cell_type": "markdown",
   "metadata": {
    "id": "XmeArKSQcNmm"
   },
   "source": [
    "Check for statistical description of the dataframe\n"
   ]
  },
  {
   "cell_type": "code",
   "execution_count": null,
   "metadata": {
    "colab": {
     "base_uri": "https://localhost:8080/",
     "height": 364
    },
    "id": "9hXiJpaGby2i",
    "outputId": "c3cb809b-4eff-4ff7-c24b-7f82818a9dcf"
   },
   "outputs": [],
   "source": [
    "df.describe()"
   ]
  },
  {
   "cell_type": "markdown",
   "metadata": {
    "id": "-uiOONtubdVc"
   },
   "source": [
    "Understand the correlation between features of datasets using a heatmap"
   ]
  },
  {
   "cell_type": "code",
   "execution_count": null,
   "metadata": {
    "id": "hbFoCo_4cX-0"
   },
   "outputs": [],
   "source": [
    "correlation = df.corr()"
   ]
  },
  {
   "cell_type": "code",
   "execution_count": null,
   "metadata": {
    "colab": {
     "base_uri": "https://localhost:8080/",
     "height": 650
    },
    "id": "uuSTnjXXcoo2",
    "outputId": "adb2512d-c60a-4a48-88f9-e15097087824"
   },
   "outputs": [],
   "source": [
    "plt.figure(figsize=(11,11))\n",
    "sns.heatmap(correlation, cbar=True, square=True, fmt='.1f', annot=True, annot_kws={'size':8}, cmap=sns.diverging_palette(150, 275, s=80, l=55, n=9)"
   ]
  },
  {
   "cell_type": "markdown",
   "metadata": {
    "id": "5exMXNLpfrY_"
   },
   "source": [
    "Forming the independent (x) and dependent (y) data varibales"
   ]
  },
  {
   "cell_type": "code",
   "execution_count": null,
   "metadata": {
    "colab": {
     "base_uri": "https://localhost:8080/"
    },
    "id": "zznxZNZOeJfZ",
    "outputId": "482a693a-4bbf-420d-c27f-e2fa8debec6c"
   },
   "outputs": [],
   "source": [
    "x = df.drop(['price'], axis = 1) #axis=1 because we are dropping column, axis=0 to drop a row\n",
    "y = df['price']  \n",
    "print(x,y)"
   ]
  },
  {
   "cell_type": "markdown",
   "metadata": {
    "id": "7baSWFcRfyOe"
   },
   "source": [
    "Splitting the data"
   ]
  },
  {
   "cell_type": "code",
   "execution_count": null,
   "metadata": {
    "id": "JdCr8rySeKDV"
   },
   "outputs": [],
   "source": [
    "xtrain, xtest, ytrain, ytest = train_test_split(x, y, test_size=0.2, random_state=2)"
   ]
  },
  {
   "cell_type": "code",
   "execution_count": null,
   "metadata": {
    "colab": {
     "base_uri": "https://localhost:8080/"
    },
    "id": "OKItB92KeKOH",
    "outputId": "48fd5d1f-2153-4b82-aff4-116ee49f32a5"
   },
   "outputs": [],
   "source": [
    "print(x.shape, xtrain.shape, xtest.shape)"
   ]
  },
  {
   "cell_type": "markdown",
   "metadata": {
    "id": "MCxf1r_EgAYA"
   },
   "source": [
    "Model Training"
   ]
  },
  {
   "cell_type": "code",
   "execution_count": null,
   "metadata": {
    "id": "0eAvOaQjeKVe"
   },
   "outputs": [],
   "source": [
    "model = XGBRegressor()"
   ]
  },
  {
   "cell_type": "code",
   "execution_count": null,
   "metadata": {
    "colab": {
     "base_uri": "https://localhost:8080/"
    },
    "id": "lWmmOc0QeKcI",
    "outputId": "c1cd0a89-cb20-4fed-9610-e2f0782f5e08"
   },
   "outputs": [],
   "source": [
    "xtraining = model.fit(xtrain, ytrain)"
   ]
  },
  {
   "cell_type": "markdown",
   "metadata": {
    "id": "Mxq4IQ8fgrQ6"
   },
   "source": [
    "Evaluation"
   ]
  },
  {
   "cell_type": "markdown",
   "metadata": {
    "id": "brRV9xMvg0t2"
   },
   "source": [
    "Accuracy for Prediction on training data"
   ]
  },
  {
   "cell_type": "code",
   "execution_count": null,
   "metadata": {
    "colab": {
     "base_uri": "https://localhost:8080/"
    },
    "id": "fO0LEY_0gpIp",
    "outputId": "0183a033-d86b-41e7-ddb0-7b5520d6c3d1"
   },
   "outputs": [],
   "source": [
    "training_prediction = model.predict(xtrain)\n",
    "print(training_prediction)"
   ]
  },
  {
   "cell_type": "markdown",
   "metadata": {
    "id": "CwID33v2lgiA"
   },
   "source": [
    "Accuracy in terms of R-squared error and Mean Absolute error for the regression model"
   ]
  },
  {
   "cell_type": "code",
   "execution_count": null,
   "metadata": {
    "id": "UsDgW4kJgpSX"
   },
   "outputs": [],
   "source": [
    "# R-squared error\n",
    "score1 = metrics.r2_score(ytrain, training_prediction)\n",
    "# Mean absolute error \n",
    "score2 = metrics.mean_absolute_error(ytrain, training_prediction)\n",
    "#lesser the difference between actual and prediction value, greater is the accuracy"
   ]
  },
  {
   "cell_type": "code",
   "execution_count": null,
   "metadata": {
    "colab": {
     "base_uri": "https://localhost:8080/"
    },
    "id": "BqfMD2aKgpYY",
    "outputId": "3adbbd2d-530c-4ac2-827d-0e992924503c"
   },
   "outputs": [],
   "source": [
    "print(\"The r-square error is:\", score1)\n",
    "print(\"The mean absolute error is:\", score2)"
   ]
  },
  {
   "cell_type": "markdown",
   "metadata": {
    "id": "hJWyBjrqlxcX"
   },
   "source": [
    "Accuracy for Test Data"
   ]
  },
  {
   "cell_type": "code",
   "execution_count": null,
   "metadata": {
    "colab": {
     "base_uri": "https://localhost:8080/"
    },
    "id": "6sbJJNcvl9y2",
    "outputId": "a22503fa-47a1-401a-bdb3-cc2ea628774d"
   },
   "outputs": [],
   "source": [
    "test_prediction = model.predict(xtest)\n",
    "print(test_prediction)"
   ]
  },
  {
   "cell_type": "code",
   "execution_count": null,
   "metadata": {
    "colab": {
     "base_uri": "https://localhost:8080/"
    },
    "id": "jrFjfDtegpeG",
    "outputId": "813c4d85-5866-433f-fe79-5dfaefd2e85f"
   },
   "outputs": [],
   "source": [
    "# R-squared error\n",
    "score1 = metrics.r2_score(ytest, test_prediction)\n",
    "# Mean absolute error \n",
    "score2 = metrics.mean_absolute_error(ytest, test_prediction)\n",
    "print(\"The r-square error is:\", score1)\n",
    "print(\"The mean absolute error is:\", score2)"
   ]
  },
  {
   "cell_type": "markdown",
   "metadata": {
    "id": "W78ogVW8mal7"
   },
   "source": [
    "Visualizing the actual prices and predicted prices"
   ]
  },
  {
   "cell_type": "code",
   "execution_count": null,
   "metadata": {
    "colab": {
     "base_uri": "https://localhost:8080/",
     "height": 295
    },
    "id": "vjqSJjw2gpj3",
    "outputId": "c2239450-b684-409b-d8ab-3fddd6fe4365"
   },
   "outputs": [],
   "source": [
    "plt.scatter(ytrain, training_prediction)\n",
    "plt.xlabel(\"Actual Prices\")\n",
    "plt.ylabel(\"Predicted Prices\")\n",
    "plt.title(\"Actual prices vs Predicted prices\")\n",
    "plt.show()"
   ]
  }
 ],
 "metadata": {
  "colab": {
   "authorship_tag": "ABX9TyNxA7OxRqWfJVznHgW+zrgG",
   "include_colab_link": true,
   "name": "house.ipynb",
   "provenance": [],
   "toc_visible": true
  },
  "kernelspec": {
   "display_name": "Python 3 (ipykernel)",
   "language": "python",
   "name": "python3"
  },
  "language_info": {
   "codemirror_mode": {
    "name": "ipython",
    "version": 3
   },
   "file_extension": ".py",
   "mimetype": "text/x-python",
   "name": "python",
   "nbconvert_exporter": "python",
   "pygments_lexer": "ipython3",
   "version": "3.9.12"
  }
 },
 "nbformat": 4,
 "nbformat_minor": 1
}
